{
 "cells": [
  {
   "cell_type": "code",
   "execution_count": 100,
   "metadata": {},
   "outputs": [],
   "source": [
    "import os\n",
    "import glob\n",
    "import numpy as np\n",
    "from PIL import Image\n",
    "import cv2\n",
    "from PIL import Image  \n"
   ]
  },
  {
   "cell_type": "code",
   "execution_count": 101,
   "metadata": {},
   "outputs": [],
   "source": [
    "data_path = \"data/gather_data/\"\n",
    "train_path = \"data/images/train/\"\n",
    "val_path = \"data/images/val/\"\n",
    "test_path = \"data/images/test/\"\n",
    "images_path = os.listdir(data_path)\n",
    "\n",
    "data_shuffle = np.random.permutation(len(images_path))\n",
    "train_shuffle = data_shuffle[0:1000]\n",
    "test_shuffle = data_shuffle[1000:1200]\n",
    "val_shuffle = data_shuffle[1200: len(images_path)]\n"
   ]
  },
  {
   "cell_type": "code",
   "execution_count": 102,
   "metadata": {},
   "outputs": [],
   "source": [
    "# arr = []\n",
    "# for i in range(len(train_shuffle)):\n",
    "#     img = Image.open(data_path+images_path[train_shuffle[i]])\n",
    "#     arr.append(img)\n",
    "#     img.save(train_path + images_path[train_shuffle[i]])\n",
    "# for i in range(len(test_shuffle)):\n",
    "#     img = Image.open(data_path+images_path[test_shuffle[i]])\n",
    "#     arr.append(img)\n",
    "#     img.save(test_path + images_path[test_shuffle[i]])\n",
    "# for i in range(len(val_shuffle)):\n",
    "#     img = Image.open(data_path+images_path[val_shuffle[i]])\n",
    "#     arr.append(img)\n",
    "#     img.save(val_path + images_path[val_shuffle[i]])"
   ]
  },
  {
   "cell_type": "code",
   "execution_count": 103,
   "metadata": {},
   "outputs": [],
   "source": [
    "train_img = glob.glob('data/images/train/*.jpg')\n",
    "val_img = glob.glob('data/images/val/*.jpg')\n",
    "test_img = glob.glob('data/images/test/*.jpg')"
   ]
  },
  {
   "cell_type": "code",
   "execution_count": 104,
   "metadata": {},
   "outputs": [
    {
     "name": "stdout",
     "output_type": "stream",
     "text": [
      "1000\n",
      "201\n",
      "200\n"
     ]
    }
   ],
   "source": [
    "print(len(train_img))\n",
    "print(len(val_img))\n",
    "print(len(test_img))"
   ]
  },
  {
   "cell_type": "code",
   "execution_count": 110,
   "metadata": {},
   "outputs": [
    {
     "name": "stdout",
     "output_type": "stream",
     "text": [
      "201\n",
      "1001\n",
      "202\n"
     ]
    }
   ],
   "source": [
    "dict_images = {\n",
    "    'train' : [[\"names\", \"labels\"]],\n",
    "    'test'  : [[\"names\", \"labels\"]],\n",
    "    'val'   : [[\"names\", \"labels\"]]\n",
    "} \n",
    "for i in range(len(test_img)):\n",
    "    name_img = test_img[i][len(test_path):len(test_img[i])+1]\n",
    "    label = name_img[:4]\n",
    "    if label == 'bike':\n",
    "        label = 0\n",
    "    elif label == 'moto':\n",
    "        label = 1\n",
    "    dict_images['test'].append([name_img, str(label)])\n",
    "print(len(dict_images['test']))\n",
    "\n",
    "for i in range(len(train_img)):\n",
    "    name_img = train_img[i][len(train_path):len(train_img[i])+1]\n",
    "    label = name_img[:4]\n",
    "    if label == 'bike':\n",
    "        label = 0\n",
    "    elif label == 'moto':\n",
    "        label = 1\n",
    "    dict_images['train'].append([name_img, str(label)])\n",
    "print(len(dict_images['train']))\n",
    "\n",
    "for i in range(len(val_img)):\n",
    "    name_img = val_img[i][len(val_path):len(val_img[i])+1]\n",
    "    label = name_img[:4]\n",
    "    if label == 'bike':\n",
    "        label = 0\n",
    "    elif label == 'moto':\n",
    "        label = 1\n",
    "    dict_images['val'].append([name_img, str(label)])\n",
    "print(len(dict_images['val']))"
   ]
  },
  {
   "cell_type": "code",
   "execution_count": 111,
   "metadata": {},
   "outputs": [],
   "source": [
    "with open(\"data/labels/test_labels.txt\", \"w\") as txt_file:\n",
    "    for line in dict_images[\"test\"]:\n",
    "        txt_file.write(\",\".join(line) + \"\\n\") # works with any number of elements in a line\n",
    "\n",
    "with open(\"data/labels/train_labels.txt\", \"w\") as txt_file:\n",
    "    for line in dict_images[\"train\"]:\n",
    "        txt_file.write(\",\".join(line) + \"\\n\") # works with any number of elements in a line\n",
    "\n",
    "with open(\"data/labels/val_labels.txt\", \"w\") as txt_file:\n",
    "    for line in dict_images[\"val\"]:\n",
    "        txt_file.write(\",\".join(line) + \"\\n\") # works with any number of elements in a line"
   ]
  },
  {
   "cell_type": "code",
   "execution_count": null,
   "metadata": {},
   "outputs": [],
   "source": []
  }
 ],
 "metadata": {
  "kernelspec": {
   "display_name": "myenv",
   "language": "python",
   "name": "python3"
  },
  "language_info": {
   "codemirror_mode": {
    "name": "ipython",
    "version": 3
   },
   "file_extension": ".py",
   "mimetype": "text/x-python",
   "name": "python",
   "nbconvert_exporter": "python",
   "pygments_lexer": "ipython3",
   "version": "3.10.4 (main, Mar 31 2022, 08:41:55) [GCC 7.5.0]"
  },
  "orig_nbformat": 4,
  "vscode": {
   "interpreter": {
    "hash": "3409b68b4e3a379a9bc2a13f715be07d3280be7621b34702973f67473171e2ca"
   }
  }
 },
 "nbformat": 4,
 "nbformat_minor": 2
}
